{
 "cells": [
  {
   "cell_type": "code",
   "execution_count": 2,
   "metadata": {},
   "outputs": [
    {
     "data": {
      "text/plain": [
       "<matplotlib.collections.PathCollection at 0x7f10f92085c0>"
      ]
     },
     "execution_count": 2,
     "metadata": {},
     "output_type": "execute_result"
    },
    {
     "data": {
      "image/png": "[encoded data removed]",
      "text/plain": [
       "<Figure size 576x576 with 1 Axes>"
      ]
     },
     "metadata": {
      "needs_background": "light"
     },
     "output_type": "display_data"
    }
   ],
   "source": [
    "import matplotlib.pyplot as plt\n",
    "import numpy as np\n",
    "%matplotlib inline\n",
    "from sklearn import datasets\n",
    "from matplotlib.colors import ListedColormap\n",
    "\n",
    "# сгеренируем данные с помощью sklearn.datasets\n",
    "classes = datasets.make_classification(n_samples=100, n_features=2, n_informative=2,\n",
    "                                       n_redundant=0, n_classes=2, random_state=1)\n",
    "\n",
    "# и изобразим их на графике\n",
    "colors = ListedColormap(['red', 'blue'])\n",
    "\n",
    "plt.figure(figsize=(8, 8))\n",
    "plt.scatter([x[0] for x in classes[0]], [x[1] for x in classes[0]], c=classes[1], cmap=colors)"
   ]
  },
  {
   "cell_type": "code",
   "execution_count": 3,
   "metadata": {},
   "outputs": [],
   "source": [
    "def sigmoid(x):\n",
    "    return 1 / (1 + np.exp(-x))"
   ]
  },
  {
   "cell_type": "code",
   "execution_count": 4,
   "metadata": {},
   "outputs": [
    {
     "name": "stdout",
     "output_type": "stream",
     "text": [
      "Размер массива признаков обучающей выборки (70, 2)\n",
      "Размер массива признаков тестовой выборки (30, 2)\n",
      "Размер массива ответов для обучающей выборки (70,)\n",
      "Размер массива ответов для тестовой выборки (30,)\n"
     ]
    }
   ],
   "source": [
    "# перемешивание датасета\n",
    "np.random.seed(12)\n",
    "shuffle_index = np.random.permutation(classes[0].shape[0])\n",
    "X_shuffled, y_shuffled = classes[0][shuffle_index], classes[1][shuffle_index]\n",
    "\n",
    "# разбивка на обучающую и тестовую выборки\n",
    "train_proportion = 0.7\n",
    "train_test_cut = int(len(classes[0]) * train_proportion)\n",
    "\n",
    "X_train, X_test, y_train, y_test = \\\n",
    "    X_shuffled[:train_test_cut], \\\n",
    "    X_shuffled[train_test_cut:], \\\n",
    "    y_shuffled[:train_test_cut], \\\n",
    "    y_shuffled[train_test_cut:]\n",
    "    \n",
    "print(\"Размер массива признаков обучающей выборки\", X_train.shape)\n",
    "print(\"Размер массива признаков тестовой выборки\", X_test.shape)\n",
    "print(\"Размер массива ответов для обучающей выборки\", y_train.shape)\n",
    "print(\"Размер массива ответов для тестовой выборки\", y_test.shape)"
   ]
  },
  {
   "cell_type": "code",
   "execution_count": 5,
   "metadata": {},
   "outputs": [],
   "source": [
    "X_train_tr = X_train.transpose()\n",
    "y_train_tr = y_train.reshape(1, y_train.shape[0])\n",
    "X_test_tr = X_test.transpose()\n",
    "y_test_tr = y_test.reshape(1, y_test.shape[0])"
   ]
  },
  {
   "cell_type": "code",
   "execution_count": 7,
   "metadata": {},
   "outputs": [],
   "source": [
    "def log_loss(w, X, y):\n",
    "    m = X.shape[1]\n",
    "\n",
    "    # используем функцию сигмоиды, написанную ранее\n",
    "    A = sigmoid(np.dot(w.T, X))\n",
    "    \n",
    "    # Задание 1. Защита от некорретных значений А. Это задание у меня не получилось сделать...\n",
    "    \n",
    "#     if A == 0:\n",
    "#         A += 0.000001\n",
    "#         loss = -1.0 / m * np.sum(y * np.log(A) + (1 - y) * np.log(1 - A))\n",
    "#         loss = np.squeeze(loss)\n",
    "        \n",
    "#         grad = 1.0 / m * np.dot(X, (A - y).T)\n",
    "        \n",
    "#     else:\n",
    "    loss = -1.0 / m * np.sum(y * np.log(A) + (1 - y) * np.log(1 - A))\n",
    "    loss = np.squeeze(loss)\n",
    "        \n",
    "    grad = 1.0 / m * np.dot(X, (A - y).T)\n",
    "    \n",
    "#     print('loss:', loss, 'grad:', grad)\n",
    "    \n",
    "    return loss, grad"
   ]
  },
  {
   "cell_type": "code",
   "execution_count": 6,
   "metadata": {},
   "outputs": [],
   "source": [
    "def optimize(w, X, y, n_iterations, eta):\n",
    "#     потери будем записывать в список для отображения в виде графика\n",
    "    losses = []\n",
    "    \n",
    "    for i in range(n_iterations):        \n",
    "        loss, grad = log_loss(w, X, y)\n",
    "        w = w - eta * grad\n",
    "\n",
    "        losses.append(loss)\n",
    "        \n",
    "    return w, losses"
   ]
  },
  {
   "cell_type": "code",
   "execution_count": 8,
   "metadata": {},
   "outputs": [],
   "source": [
    "def predict(w, X):\n",
    "    \n",
    "    m = X.shape[1]\n",
    "    \n",
    "    y_predicted = np.zeros((1, m))\n",
    "    w = w.reshape(X.shape[0], 1)\n",
    "    \n",
    "    A = sigmoid(np.dot(w.T, X))\n",
    "    \n",
    "#     За порог отнесения к тому или иному классу примем вероятность 0.5\n",
    "    for i in range(A.shape[1]):\n",
    "        if (A[:,i] > 0.5): \n",
    "            y_predicted[:, i] = 1\n",
    "        elif (A[:,i] <= 0.5):\n",
    "            y_predicted[:, i] = 0\n",
    "    \n",
    "    return y_predicted"
   ]
  },
  {
   "cell_type": "markdown",
   "metadata": {},
   "source": [
    "### Задание 2"
   ]
  },
  {
   "cell_type": "code",
   "execution_count": 9,
   "metadata": {},
   "outputs": [
    {
     "name": "stdout",
     "output_type": "stream",
     "text": [
      "Итоговый вектор весов w: [[5.10533474]\n",
      " [0.50967285]]\n",
      "Точность на обучающей выборке: 98.571\n",
      "Точность на тестовой выборке: 96.667\n",
      "Значение loss: 0.057\n"
     ]
    }
   ],
   "source": [
    "# иницилизируем начальный вектор весов\n",
    "w0 = np.zeros((X_train_tr.shape[0], 1))\n",
    "\n",
    "# For 2 task\n",
    "# Параметры подобрал. Текущие значения оптимальны, поскольку \n",
    "# увеличение числа итераций гораздо сильнее расходует ресурсы, чем уменьшает loss\n",
    "\n",
    "n_iterations = 20000\n",
    "eta = 0.01\n",
    "\n",
    "w, losses = optimize(w0, X_train_tr, y_train_tr, n_iterations, eta)\n",
    "\n",
    "y_predicted_test = predict(w, X_test_tr)\n",
    "y_predicted_train = predict(w, X_train_tr)\n",
    "\n",
    "# В качестве меры точности возьмем долю правильных ответов\n",
    "train_accuracy = 100.0 - np.mean(np.abs(y_predicted_train - y_train_tr)*100.0)\n",
    "test_accuracy = 100.0 - np.mean(np.abs(y_predicted_test-y_test_tr)*100.0)\n",
    "\n",
    "print(f\"Итоговый вектор весов w: {w}\")\n",
    "print(f\"Точность на обучающей выборке: {train_accuracy:.3f}\")\n",
    "print(f\"Точность на тестовой выборке: {test_accuracy:.3f}\")\n",
    "print(f\"Значение loss: {losses[-1]:.3f}\")"
   ]
  },
  {
   "cell_type": "markdown",
   "metadata": {},
   "source": [
    "### Задание 3"
   ]
  },
  {
   "cell_type": "code",
   "execution_count": 11,
   "metadata": {},
   "outputs": [
    {
     "name": "stdout",
     "output_type": "stream",
     "text": [
      "Итоговый вектор весов w: [[5.93739715]\n",
      " [0.77599489]]\n",
      "Точность на обучающей выборке: 98.571\n",
      "Точность на тестовой выборке: 96.667\n",
      "Значение loss: 0.054\n"
     ]
    }
   ],
   "source": [
    "n_iterations = 20000\n",
    "eta = 0.01\n",
    "\n",
    "w, losses = optimize(w, X_train_tr, y_train_tr, n_iterations, eta)\n",
    "\n",
    "y_predicted_train = predict(w, X_train_tr)\n",
    "y_predicted_test = predict(w, X_test_tr)\n",
    "\n",
    "def calc_pred_proba(x,y,z,w):\n",
    "    # В качестве меры точности возьмем долю правильных ответов\n",
    "    train_accuracy = 100.0 - np.mean(np.abs(x - y)*100.0)\n",
    "    test_accuracy = 100.0 - np.mean(np.abs(z - w)*100.0)\n",
    "    return train_accuracy, test_accuracy\n",
    "\n",
    "calc_pred_proba(y_predicted_train, y_train_tr, y_predicted_test, y_test_tr)\n",
    "\n",
    "print(f\"Итоговый вектор весов w: {w}\")\n",
    "print(f\"Точность на обучающей выборке: {train_accuracy:.3f}\")\n",
    "print(f\"Точность на тестовой выборке: {test_accuracy:.3f}\")\n",
    "print(f\"Значение loss: {losses[-1]:.3f}\")"
   ]
  },
  {
   "cell_type": "markdown",
   "metadata": {},
   "source": [
    "### Задание 4"
   ]
  },
  {
   "cell_type": "code",
   "execution_count": 12,
   "metadata": {},
   "outputs": [
    {
     "name": "stdout",
     "output_type": "stream",
     "text": [
      "Классы на тестовой выборке\n",
      "Предсказаны классы 1 и 0 с одинаковой вероятностью, всего экземпляров 1 и 2 классов  30\n",
      "Классы на тренировочной выборке\n",
      "Предсказан класс 0, количество:  37 из 70\n",
      "Итоговый вектор весов w: [[6.08215945]\n",
      " [0.82698624]]\n",
      "Точность на обучающей выборке: 98.571\n",
      "Точность на тестовой выборке: 96.667\n",
      "Значение loss: 0.054\n"
     ]
    }
   ],
   "source": [
    "n_iterations = 20000\n",
    "eta = 0.01\n",
    "\n",
    "w, losses = optimize(w, X_train_tr, y_train_tr, n_iterations, eta)\n",
    "\n",
    "y_predicted_train = predict(w, X_train_tr)\n",
    "y_predicted_test = predict(w, X_test_tr)\n",
    "\n",
    "# В качестве меры точности возьмем долю правильных ответов\n",
    "train_accuracy = 100.0 - np.mean(np.abs(y_predicted_train - y_train_tr)*100.0)\n",
    "test_accuracy = 100.0 - np.mean(np.abs(y_predicted_test-y_test_tr)*100.0)\n",
    "\n",
    "\n",
    "a = y_predicted_test\n",
    "b = y_predicted_train\n",
    "\n",
    "# print(y_predicted_test)\n",
    "\n",
    "def calc_pred(x):\n",
    "    if (x<0.5).sum() > (x>0.5).sum():\n",
    "        print('Предсказан класс 0, количество: ', (x<0.5).sum(), 'из', (x<0.5).sum() + (x>0.5).sum())\n",
    "    elif (x<0.5).sum() < (x>0.5).sum():\n",
    "        print('Предсказан класс 1, количество: ', (x>0.5).sum(), 'из', (x<0.5).sum() + (x>0.5).sum())\n",
    "    else:\n",
    "        print('Предсказаны классы 1 и 0 с одинаковой вероятностью, всего экземпляров 1 и 2 классов ', (x<0.5).sum() + (x>0.5).sum())\n",
    "\n",
    "print('Классы на тестовой выборке')\n",
    "calc_pred(a)\n",
    "\n",
    "print('Классы на тренировочной выборке')\n",
    "calc_pred(b)\n",
    "\n",
    "print(f\"Итоговый вектор весов w: {w}\")\n",
    "print(f\"Точность на обучающей выборке: {train_accuracy:.3f}\")\n",
    "print(f\"Точность на тестовой выборке: {test_accuracy:.3f}\")\n",
    "print(f\"Значение loss: {losses[-1]:.3f}\")"
   ]
  },
  {
   "cell_type": "code",
   "execution_count": 13,
   "metadata": {},
   "outputs": [],
   "source": [
    "a1 = []\n",
    "b1 = []\n",
    "for i in  a[0]:\n",
    "    a1.append(i)\n",
    "for i in y_test_tr[0]:\n",
    "    b1.append(i)"
   ]
  },
  {
   "cell_type": "markdown",
   "metadata": {},
   "source": [
    "### Матрица ошибок"
   ]
  },
  {
   "cell_type": "code",
   "execution_count": 14,
   "metadata": {},
   "outputs": [
    {
     "name": "stdout",
     "output_type": "stream",
     "text": [
      "----------------------\n",
      "          y=+1 |  y=-1\n",
      "----------------------\n",
      "a(x)=+1 |  15  |  0 \n",
      "a(x)=-1 |  1   |  14 \n"
     ]
    }
   ],
   "source": [
    "from sklearn.metrics import confusion_matrix\n",
    "\n",
    "tn, fp, fn, tp = confusion_matrix(b1, a1).ravel()\n",
    "(tn, fp, fn, tp)\n",
    "print('----------------------')\n",
    "print('          y=+1 |  y=-1')\n",
    "print('----------------------')\n",
    "print(f'a(x)=+1 |  {tp}  |  {fp} ')\n",
    "print(f'a(x)=-1 |  {fn}   |  {tn} ')"
   ]
  },
  {
   "cell_type": "markdown",
   "metadata": {},
   "source": [
    "### Точность и полнота"
   ]
  },
  {
   "cell_type": "code",
   "execution_count": 15,
   "metadata": {},
   "outputs": [
    {
     "name": "stdout",
     "output_type": "stream",
     "text": [
      "precision(a,X)=1.000\n",
      "recall(a,X)=0.938\n"
     ]
    }
   ],
   "source": [
    "pr = tp/(tp+fp)\n",
    "re = tp/(tp+fn)\n",
    "print(f'precision(a,X)={pr:.3f}')\n",
    "print(f'recall(a,X)={re:.3f}')"
   ]
  },
  {
   "cell_type": "markdown",
   "metadata": {},
   "source": [
    "### f1 score"
   ]
  },
  {
   "cell_type": "code",
   "execution_count": 16,
   "metadata": {},
   "outputs": [
    {
     "name": "stdout",
     "output_type": "stream",
     "text": [
      "f1_score=0.968\n"
     ]
    }
   ],
   "source": [
    "f1_score = 2*pr*re/(pr+re)\n",
    "print(f'f1_score={f1_score:.3f}')"
   ]
  },
  {
   "cell_type": "markdown",
   "metadata": {},
   "source": [
    "### Вывод: да, модель переобучилась. Потому что увеличиваются значения весов с каждым разом после того,\n",
    "### как мы начали использовать не 0 веса, а тек, которые были изначально посчитала модель. \n",
    "### Сейчас как раз время использовать L1 и L2 регуляризацию"
   ]
  },
  {
   "cell_type": "code",
   "execution_count": 37,
   "metadata": {},
   "outputs": [
    {
     "name": "stdout",
     "output_type": "stream",
     "text": [
      "Итоговый вектор весов w: [[6.08215945]\n",
      " [0.82698624]]\n",
      "Точность на обучающей выборке: 98.571\n",
      "Точность на тестовой выборке: 96.667\n",
      "Значение loss: 0.054\n"
     ]
    }
   ],
   "source": [
    "def optimize(w, X, y, n_iterations, eta, lmbd):\n",
    "#     потери будем записывать в список для отображения в виде графика\n",
    "    losses = []\n",
    "    \n",
    "    for i in range(n_iterations):        \n",
    "        loss, grad = log_loss(w, X, y)\n",
    "        w = w - eta * grad + lmbd*np.sign(w)\n",
    "\n",
    "        losses.append(loss)\n",
    "        \n",
    "    return w, losses\n",
    "\n",
    "def eval_model_l1(x, y):\n",
    "\n",
    "    n_iterations = 20000\n",
    "    eta = 0.01\n",
    "    lmbd = 0.0001\n",
    "    \n",
    "    # x - w, y - losses \n",
    "    \n",
    "    x, y = optimize(w, X_train_tr, y_train_tr, n_iterations, eta, lmbd)\n",
    "\n",
    "    y_predicted_train = predict(w, X_train_tr)\n",
    "    y_predicted_test = predict(w, X_test_tr)\n",
    "\n",
    "eval_model_l1(w, losses)\n",
    "\n",
    "def calc_pred_proba(x,y,z,w):\n",
    "    # В качестве меры точности возьмем долю правильных ответов\n",
    "    train_accuracy = 100.0 - np.mean(np.abs(x - y)*100.0)\n",
    "    test_accuracy = 100.0 - np.mean(np.abs(z - w)*100.0)\n",
    "    return train_accuracy, test_accuracy\n",
    "\n",
    "calc_pred_proba(y_predicted_train, y_train_tr, y_predicted_test, y_test_tr)\n",
    "\n",
    "print(f\"Итоговый вектор весов w: {w}\")\n",
    "print(f\"Точность на обучающей выборке: {train_accuracy:.3f}\")\n",
    "print(f\"Точность на тестовой выборке: {test_accuracy:.3f}\")\n",
    "print(f\"Значение loss: {losses[-1]:.3f}\")"
   ]
  },
  {
   "cell_type": "code",
   "execution_count": 40,
   "metadata": {},
   "outputs": [
    {
     "name": "stdout",
     "output_type": "stream",
     "text": [
      "Итоговый вектор весов w: [[6.08215945]\n",
      " [0.82698624]]\n",
      "Точность на обучающей выборке: 98.571\n",
      "Точность на тестовой выборке: 96.667\n",
      "Значение loss: 0.054\n"
     ]
    }
   ],
   "source": [
    "def optimize1(w, X, y, n_iterations, eta, lmbd1):\n",
    "#     потери будем записывать в список для отображения в виде графика\n",
    "    losses = []\n",
    "    \n",
    "    for i in range(n_iterations):        \n",
    "        loss, grad = log_loss(w, X, y)\n",
    "        w = w - eta * grad + 2*lmbd1 * w\n",
    "\n",
    "        losses.append(loss)\n",
    "        \n",
    "    return w, losses\n",
    "\n",
    "def eval_model_l2(x, y):\n",
    "\n",
    "    n_iterations = 20000\n",
    "    eta = 0.01\n",
    "    lmbd1 = 1e-50\n",
    "    \n",
    "    # x - w, y - losses \n",
    "    \n",
    "    x, y = optimize1(w, X_train_tr, y_train_tr, n_iterations, eta, lmbd1)\n",
    "\n",
    "    y_predicted_train = predict(w, X_train_tr)\n",
    "    y_predicted_test = predict(w, X_test_tr)\n",
    "\n",
    "eval_model_l2(w, losses)\n",
    "\n",
    "def calc_pred_proba(x,y,z,w):\n",
    "    # В качестве меры точности возьмем долю правильных ответов\n",
    "    train_accuracy = 100.0 - np.mean(np.abs(x - y)*100.0)\n",
    "    test_accuracy = 100.0 - np.mean(np.abs(z - w)*100.0)\n",
    "    return train_accuracy, test_accuracy\n",
    "\n",
    "calc_pred_proba(y_predicted_train, y_train_tr, y_predicted_test, y_test_tr)\n",
    "\n",
    "print(f\"Итоговый вектор весов w: {w}\")\n",
    "print(f\"Точность на обучающей выборке: {train_accuracy:.3f}\")\n",
    "print(f\"Точность на тестовой выборке: {test_accuracy:.3f}\")\n",
    "print(f\"Значение loss: {losses[-1]:.3f}\")"
   ]
  },
  {
   "cell_type": "code",
   "execution_count": null,
   "metadata": {},
   "outputs": [],
   "source": []
  }
 ],
 "metadata": {
  "kernelspec": {
   "display_name": "Python 3",
   "language": "python",
   "name": "python3"
  },
  "language_info": {
   "codemirror_mode": {
    "name": "ipython",
    "version": 3
   },
   "file_extension": ".py",
   "mimetype": "text/x-python",
   "name": "python",
   "nbconvert_exporter": "python",
   "pygments_lexer": "ipython3",
   "version": "3.6.9"
  }
 },
 "nbformat": 4,
 "nbformat_minor": 4
}
