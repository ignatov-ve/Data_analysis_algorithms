{
 "cells": [
  {
   "cell_type": "code",
   "execution_count": 1,
   "metadata": {},
   "outputs": [],
   "source": [
    "import numpy as np\n",
    "from sklearn import datasets\n",
    "import matplotlib.pyplot as plt\n",
    "\n",
    "%matplotlib inline"
   ]
  },
  {
   "cell_type": "code",
   "execution_count": 2,
   "metadata": {},
   "outputs": [],
   "source": [
    "# сгенерируем датасет\n",
    "data, target, coef = datasets.make_regression(n_samples=1500, n_features = 2, n_informative = 2, n_targets = 1, \n",
    "                                              noise = 3, coef = True, random_state = 5)"
   ]
  },
  {
   "cell_type": "code",
   "execution_count": 3,
   "metadata": {},
   "outputs": [],
   "source": [
    "# Получим средние значения и стандартное отклонение по столбцам\n",
    "\n",
    "means = np.mean(data, axis=0)\n",
    "stds = np.std(data, axis=0)\n",
    "# параметр axis указывается для вычисления значений по столбцам, а не по всему массиву\n",
    "#(см. документацию в разделе источников)\n",
    "\n",
    "# вычтем каждое значение признака из среднего и поделим на стандартное отклонение\n",
    "for i in range(data.shape[0]):\n",
    "    for j in range(data.shape[1]):\n",
    "        data[i][j] = (data[i][j] - means[j])/stds[j]"
   ]
  },
  {
   "cell_type": "code",
   "execution_count": 4,
   "metadata": {},
   "outputs": [],
   "source": [
    "# реализуем функцию, определяющую среднеквадратичную ошибку\n",
    "def mserror(X, w, y_pred):\n",
    "    y = X.dot(w)\n",
    "    return (sum((y - y_pred)**2)) / len(y)"
   ]
  },
  {
   "cell_type": "code",
   "execution_count": 5,
   "metadata": {},
   "outputs": [
    {
     "name": "stdout",
     "output_type": "stream",
     "text": [
      "В случае использования градиентного спуска функционал ошибки составляет 9.6068\n"
     ]
    }
   ],
   "source": [
    "# ГРАДИЕНТНЫЙ СПУСК\n",
    "\n",
    "# инициализируем начальный вектор весов\n",
    "w1 = np.zeros(2)\n",
    "\n",
    "# список векторов весов после каждой итерации\n",
    "w_list1 = [w1.copy()]\n",
    "\n",
    "# список значений ошибок после каждой итерации\n",
    "errors1 = []\n",
    "\n",
    "# шаг градиентного спуска\n",
    "eta1 = 0.1\n",
    "\n",
    "# максимальное число итераций\n",
    "max_iter1 = 1e3\n",
    "\n",
    "# критерий сходимости (разница весов, при которой алгоритм останавливается)\n",
    "min_weight_dist1 = 1e-8\n",
    "\n",
    "# зададим начальную разницу весов большим числом\n",
    "weight_dist1 = np.inf\n",
    "\n",
    "# счетчик итераций\n",
    "iter_num1 = 0\n",
    "\n",
    "# ход градиентного спуска\n",
    "while weight_dist1 > min_weight_dist1 and iter_num1 < max_iter1:\n",
    "    new_w1 = w1 - 2 * eta1 * np.dot(data.T, (np.dot(data, w1) - target)) / target.shape[0]\n",
    "    weight_dist1 = np.linalg.norm(new_w1 - w1, ord=2)\n",
    "    \n",
    "    w_list1.append(new_w1.copy())\n",
    "    errors1.append(mserror(data, new_w1, target))\n",
    "    \n",
    "    \n",
    "    iter_num1 += 1\n",
    "    w1 = new_w1\n",
    "    \n",
    "w_list1 = np.array(w_list1)\n",
    "\n",
    "print(f'В случае использования градиентного спуска функционал ошибки составляет {round(errors1[-1], 4)}')"
   ]
  },
  {
   "cell_type": "code",
   "execution_count": 6,
   "metadata": {},
   "outputs": [
    {
     "name": "stdout",
     "output_type": "stream",
     "text": [
      "В случае использования стохастического градиентного спуска функционал ошибки составляет 9.6087\n"
     ]
    }
   ],
   "source": [
    "# СТОХАСТИЧЕСКИЙ ГРАДИЕНТНЫЙ СПУСК\n",
    "\n",
    "# инициализируем начальный вектор весов\n",
    "w = np.zeros(2)\n",
    "\n",
    "# список векторов весов после каждой итерации\n",
    "w_list = [w.copy()]\n",
    "\n",
    "# список значений ошибок после каждой итерации\n",
    "errors = []\n",
    "\n",
    "# шаг градиентного спуска\n",
    "eta = 0.2\n",
    "\n",
    "# максимальное число итераций\n",
    "max_iter = 1e5\n",
    "\n",
    "# критерий сходимости (разница весов, при которой алгоритм останавливается)\n",
    "min_weight_dist = 1e-8\n",
    "\n",
    "# зададим начальную разницу весов большим числом\n",
    "weight_dist = np.inf\n",
    "\n",
    "# счетчик итераций\n",
    "iter_num = 0\n",
    "\n",
    "np.random.seed(1234)\n",
    "\n",
    "# ход градиентного спуска\n",
    "while weight_dist > min_weight_dist and iter_num < max_iter:\n",
    "    \n",
    "    # генерируем случайный индекс объекта выборки\n",
    "    train_ind = np.random.randint(data.shape[0])\n",
    "    \n",
    "    new_w = w - 2 * eta * np.dot(data[train_ind].T, (np.dot(data[train_ind], w) - target[train_ind])) / target.shape[0]\n",
    "\n",
    "    weight_dist = np.linalg.norm(new_w - w, ord=2)\n",
    "    \n",
    "    w_list.append(new_w.copy())\n",
    "    errors.append(mserror(data, new_w, target))\n",
    "    \n",
    "    iter_num += 1\n",
    "    w = new_w\n",
    "    \n",
    "w_list = np.array(w_list)\n",
    "\n",
    "print(f'В случае использования стохастического градиентного спуска функционал ошибки составляет {round(errors[-1], 4)}')"
   ]
  },
  {
   "cell_type": "code",
   "execution_count": null,
   "metadata": {},
   "outputs": [],
   "source": [
    "print(target[3])"
   ]
  },
  {
   "cell_type": "code",
   "execution_count": null,
   "metadata": {},
   "outputs": [],
   "source": [
    "print(target.shape[0])"
   ]
  },
  {
   "cell_type": "code",
   "execution_count": 7,
   "metadata": {},
   "outputs": [
    {
     "data": {
      "image/png": "[encoded data removed]",
      "text/plain": [
       "<Figure size 936x432 with 1 Axes>"
      ]
     },
     "metadata": {
      "needs_background": "light"
     },
     "output_type": "display_data"
    }
   ],
   "source": [
    "plt.figure(figsize=(13, 6))\n",
    "plt.title('Stochastic and gradient descent')\n",
    "plt.xlabel(r'$w_1$')\n",
    "plt.ylabel(r'$w_2$')\n",
    "\n",
    "plt.scatter(w_list[:, 0], w_list[:, 1])\n",
    "plt.scatter(coef[0], coef[1], c='r')\n",
    "plt.plot(w_list[:, 0], w_list[:, 1])\n",
    "\n",
    "plt.scatter(w_list1[:, 0], w_list1[:, 1])\n",
    "plt.scatter(coef[0], coef[1], c='r')\n",
    "plt.plot(w_list1[:, 0], w_list1[:, 1])\n",
    "\n",
    "plt.show()"
   ]
  },
  {
   "cell_type": "code",
   "execution_count": 8,
   "metadata": {},
   "outputs": [
    {
     "data": {
      "text/plain": [
       "Text(0, 0.5, 'MSE')"
      ]
     },
     "execution_count": 8,
     "metadata": {},
     "output_type": "execute_result"
    },
    {
     "data": {
      "image/png": "[encoded data removed]",
      "text/plain": [
       "<Figure size 432x288 with 1 Axes>"
      ]
     },
     "metadata": {
      "needs_background": "light"
     },
     "output_type": "display_data"
    }
   ],
   "source": [
    "# Визуализируем изменение функционала ошибки\n",
    "plt.plot(range(len(errors)), errors)\n",
    "plt.plot(range(len(errors1)), errors1)\n",
    "plt.title('MSE')\n",
    "plt.xlabel('Iteration number')\n",
    "plt.ylabel('MSE')"
   ]
  },
  {
   "cell_type": "markdown",
   "metadata": {},
   "source": [
    "### Вывод: в данном конкретном случае обычный градиентный спуск сработал быстрее, даже при равном количестве итераций. Мной были подобраны числа шага и итераций такие, чтобы ошибка была одинакова. Я делаю вывод такой, что стохастический градиентный спуск хорош в случаях очень большого количества значений."
   ]
  },
  {
   "cell_type": "markdown",
   "metadata": {},
   "source": [
    "### Задание 2"
   ]
  },
  {
   "cell_type": "code",
   "execution_count": 9,
   "metadata": {},
   "outputs": [
    {
     "name": "stdout",
     "output_type": "stream",
     "text": [
      "В случае использования градиентного спуска и L2-регуляризации функционал ошибки составляет 9.6068\n"
     ]
    }
   ],
   "source": [
    "# ГРАДИЕНТНЫЙ СПУСК и L2 - регуляризация\n",
    "\n",
    "# Lambda\n",
    "\n",
    "lmbd1 = 1e-5\n",
    "\n",
    "\n",
    "# инициализируем начальный вектор весов\n",
    "w1 = np.zeros(2)\n",
    "\n",
    "# список векторов весов после каждой итерации\n",
    "w_list1 = [w1.copy()]\n",
    "\n",
    "# список значений ошибок после каждой итерации\n",
    "errors1 = []\n",
    "\n",
    "# шаг градиентного спуска\n",
    "eta1 = 0.1\n",
    "\n",
    "# максимальное число итераций\n",
    "max_iter1 = 1e3\n",
    "\n",
    "# критерий сходимости (разница весов, при которой алгоритм останавливается)\n",
    "min_weight_dist1 = 1e-8\n",
    "\n",
    "# зададим начальную разницу весов большим числом\n",
    "weight_dist1 = np.inf\n",
    "\n",
    "# счетчик итераций\n",
    "iter_num1 = 0\n",
    "\n",
    "# ход градиентного спуска\n",
    "while weight_dist1 > min_weight_dist1 and iter_num1 < max_iter1:\n",
    "    new_w1 = w1 - 2 * eta1 * np.dot(data.T, (np.dot(data, w1) - target)) / target.shape[0] + lmbd1 * new_w1\n",
    "    weight_dist1 = np.linalg.norm(new_w1 - w1, ord=2)\n",
    "    \n",
    "    w_list1.append(new_w1.copy())\n",
    "    errors1.append(mserror(data, new_w1, target))\n",
    "    \n",
    "    \n",
    "    iter_num1 += 1\n",
    "    w1 = new_w1\n",
    "    \n",
    "w_list1 = np.array(w_list1)\n",
    "\n",
    "print(f'В случае использования градиентного спуска и L2-регуляризации функционал ошибки составляет {round(errors1[-1], 4)}')"
   ]
  },
  {
   "cell_type": "code",
   "execution_count": 10,
   "metadata": {},
   "outputs": [
    {
     "name": "stdout",
     "output_type": "stream",
     "text": [
      "В случае использования стохастического градиентного спуска и L2-регуляризации функционал ошибки составляет 9.6087\n"
     ]
    }
   ],
   "source": [
    "# СТОХАСТИЧЕСКИЙ ГРАДИЕНТНЫЙ СПУСК и L2 - регуляризация\n",
    "\n",
    "# Lambda\n",
    "\n",
    "lmbd = 1e-50\n",
    "\n",
    "# инициализируем начальный вектор весов\n",
    "w = np.zeros(2)\n",
    "\n",
    "# список векторов весов после каждой итерации\n",
    "w_list = [w.copy()]\n",
    "\n",
    "# список значений ошибок после каждой итерации\n",
    "errors = []\n",
    "\n",
    "# шаг градиентного спуска\n",
    "eta = 0.2\n",
    "\n",
    "# максимальное число итераций\n",
    "max_iter = 1e5\n",
    "\n",
    "# критерий сходимости (разница весов, при которой алгоритм останавливается)\n",
    "min_weight_dist = 1e-8\n",
    "\n",
    "# зададим начальную разницу весов большим числом\n",
    "weight_dist = np.inf\n",
    "\n",
    "# счетчик итераций\n",
    "iter_num = 0\n",
    "\n",
    "np.random.seed(1234)\n",
    "\n",
    "# ход градиентного спуска\n",
    "while weight_dist > min_weight_dist and iter_num < max_iter:\n",
    "    \n",
    "    # генерируем случайный индекс объекта выборки\n",
    "    train_ind = np.random.randint(data.shape[0])\n",
    "    \n",
    "    new_w = w - 2 * eta * np.dot(data[train_ind].T, (np.dot(data[train_ind], w) - target[train_ind])) / target.shape[0]  + lmbd * new_w\n",
    "\n",
    "    weight_dist = np.linalg.norm(new_w - w, ord=2)\n",
    "    \n",
    "    w_list.append(new_w.copy())\n",
    "    errors.append(mserror(data, new_w, target))\n",
    "    \n",
    "    iter_num += 1\n",
    "    w = new_w\n",
    "    \n",
    "w_list = np.array(w_list)\n",
    "\n",
    "print(f'В случае использования стохастического градиентного спуска и L2-регуляризации функционал ошибки составляет {round(errors[-1], 4)}')"
   ]
  },
  {
   "cell_type": "code",
   "execution_count": 11,
   "metadata": {},
   "outputs": [
    {
     "name": "stdout",
     "output_type": "stream",
     "text": [
      "В случае использования градиентного спуска и L1-регуляризации функционал ошибки составляет 9.6068\n"
     ]
    }
   ],
   "source": [
    "# ГРАДИЕНТНЫЙ СПУСК и L1 - регуляризация\n",
    "\n",
    "# Lambda\n",
    "\n",
    "lmbd1 = 0.001\n",
    "\n",
    "\n",
    "# инициализируем начальный вектор весов\n",
    "w1 = np.zeros(2)\n",
    "\n",
    "# список векторов весов после каждой итерации\n",
    "w_list1 = [w1.copy()]\n",
    "\n",
    "# список значений ошибок после каждой итерации\n",
    "errors1 = []\n",
    "\n",
    "# шаг градиентного спуска\n",
    "eta1 = 0.1\n",
    "\n",
    "# максимальное число итераций\n",
    "max_iter1 = 1e3\n",
    "\n",
    "# критерий сходимости (разница весов, при которой алгоритм останавливается)\n",
    "min_weight_dist1 = 1e-8\n",
    "\n",
    "# зададим начальную разницу весов большим числом\n",
    "weight_dist1 = np.inf\n",
    "\n",
    "# счетчик итераций\n",
    "iter_num1 = 0\n",
    "\n",
    "# ход градиентного спуска\n",
    "while weight_dist1 > min_weight_dist1 and iter_num1 < max_iter1:\n",
    "    new_w1 = w1 - 2 * eta1 * np.dot(data.T, (np.dot(data, w1) - target)) / target.shape[0] + lmbd1*np.sign(new_w1)\n",
    "    weight_dist1 = np.linalg.norm(new_w1 - w1, ord=2)\n",
    "    \n",
    "    w_list1.append(new_w1.copy())\n",
    "    errors1.append(mserror(data, new_w1, target))\n",
    "    \n",
    "    \n",
    "    iter_num1 += 1\n",
    "    w1 = new_w1\n",
    "    \n",
    "w_list1 = np.array(w_list1)\n",
    "\n",
    "print(f'В случае использования градиентного спуска и L1-регуляризации функционал ошибки составляет {round(errors1[-1], 4)}')"
   ]
  },
  {
   "cell_type": "code",
   "execution_count": 12,
   "metadata": {},
   "outputs": [
    {
     "name": "stdout",
     "output_type": "stream",
     "text": [
      "В случае использования стохастического градиентного спуска и L1-регуляризации функционал ошибки составляет 9.6084\n"
     ]
    }
   ],
   "source": [
    "# СТОХАСТИЧЕСКИЙ ГРАДИЕНТНЫЙ СПУСК и L1 - регуляризация\n",
    "\n",
    "# Lambda\n",
    "\n",
    "lmbd = 0.000001\n",
    "\n",
    "# инициализируем начальный вектор весов\n",
    "w = np.zeros(2)\n",
    "\n",
    "# список векторов весов после каждой итерации\n",
    "w_list = [w.copy()]\n",
    "\n",
    "# список значений ошибок после каждой итерации\n",
    "errors = []\n",
    "\n",
    "# шаг градиентного спуска\n",
    "eta = 0.2\n",
    "\n",
    "# максимальное число итераций\n",
    "max_iter = 1e5\n",
    "\n",
    "# критерий сходимости (разница весов, при которой алгоритм останавливается)\n",
    "min_weight_dist = 1e-8\n",
    "\n",
    "# зададим начальную разницу весов большим числом\n",
    "weight_dist = np.inf\n",
    "\n",
    "# счетчик итераций\n",
    "iter_num = 0\n",
    "\n",
    "np.random.seed(1234)\n",
    "\n",
    "# ход градиентного спуска\n",
    "while weight_dist > min_weight_dist and iter_num < max_iter:\n",
    "    \n",
    "    # генерируем случайный индекс объекта выборки\n",
    "    train_ind = np.random.randint(data.shape[0])\n",
    "    \n",
    "    new_w = w - 2 * eta * np.dot(data[train_ind].T, (np.dot(data[train_ind], w) - target[train_ind])) / target.shape[0] + lmbd * np.sign(new_w)\n",
    "\n",
    "    weight_dist = np.linalg.norm(new_w - w, ord=2)\n",
    "    \n",
    "    w_list.append(new_w.copy())\n",
    "    errors.append(mserror(data, new_w, target))\n",
    "    \n",
    "    iter_num += 1\n",
    "    w = new_w\n",
    "    \n",
    "w_list = np.array(w_list)\n",
    "\n",
    "print(f'В случае использования стохастического градиентного спуска и L1-регуляризации функционал ошибки составляет {round(errors[-1], 4)}')"
   ]
  },
  {
   "cell_type": "code",
   "execution_count": null,
   "metadata": {},
   "outputs": [],
   "source": []
  }
 ],
 "metadata": {
  "kernelspec": {
   "display_name": "Python 3",
   "language": "python",
   "name": "python3"
  },
  "language_info": {
   "codemirror_mode": {
    "name": "ipython",
    "version": 3
   },
   "file_extension": ".py",
   "mimetype": "text/x-python",
   "name": "python",
   "nbconvert_exporter": "python",
   "pygments_lexer": "ipython3",
   "version": "3.6.9"
  }
 },
 "nbformat": 4,
 "nbformat_minor": 4
}
